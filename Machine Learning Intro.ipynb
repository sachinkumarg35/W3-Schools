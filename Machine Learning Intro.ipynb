{
 "cells": [
  {
   "cell_type": "markdown",
   "metadata": {},
   "source": [
    "### Machine Learning"
   ]
  },
  {
   "cell_type": "markdown",
   "metadata": {},
   "source": [
    "Machine Learning is making the computer learn from studying data and statistics.\n",
    "\n",
    "Machine Learning is a step into the direction of artificial intelligence (AI).\n",
    "\n",
    "Machine Learning is a program that analyses data and learns to predict the outcome."
   ]
  },
  {
   "cell_type": "markdown",
   "metadata": {},
   "source": [
    "#### Where To Start?\n",
    "In this tutorial we will go back to mathematics and study statistics, and how to calculate important numbers based on data sets.\n",
    "\n",
    "We will also learn how to use various Python modules to get the answers we need.\n",
    "\n",
    "And we will learn how to make functions that are able to predict the outcome based on what we have learned."
   ]
  },
  {
   "cell_type": "markdown",
   "metadata": {},
   "source": [
    "#### Data Set\n",
    "In the mind of a computer, a data set is any collection of data. It can be anything from an array to a complete database.\n",
    "\n",
    "Example of an array:"
   ]
  },
  {
   "cell_type": "markdown",
   "metadata": {},
   "source": [
    "[99,86,87,88,111,86,103,87,94,78,77,85,86]"
   ]
  },
  {
   "cell_type": "markdown",
   "metadata": {},
   "source": [
    "#### Data Types\n",
    "To analyze data, it is important to know what type of data we are dealing with.\n",
    "\n",
    "We can split the data types into three main categories:\n",
    "\n",
    "Numerical\n",
    "Categorical\n",
    "Ordinal\n",
    "Numerical data are numbers, and can be split into two numerical categories:\n",
    "\n",
    "Discrete Data\n",
    "- numbers that are limited to integers. Example: The number of cars passing by.\n",
    "Continuous Data\n",
    "- numbers that are of infinite value. Example: The price of an item, or the size of an item\n",
    "Categorical data are values that cannot be measured up against each other. Example: a color value, or any yes/no values.\n",
    "\n",
    "Ordinal data are like categorical data, but can be measured up against each other. Example: school grades where A is better than B and so on.\n",
    "\n",
    "By knowing the data type of your data source, you will be able to know what technique to use when analyzing them.\n",
    "\n",
    "You will learn more about statistics and analyzing data in the next chapters.\n",
    "\n"
   ]
  },
  {
   "cell_type": "markdown",
   "metadata": {},
   "source": [
    "### Machine Learning - Mean Median Mode"
   ]
  },
  {
   "cell_type": "markdown",
   "metadata": {},
   "source": [
    "#### Mean, Median, and Mode\n",
    "What can we learn from looking at a group of numbers?\n",
    "\n",
    "In Machine Learning (and in mathematics) there are often three values that interests us:\n",
    "\n",
    "Mean - The average value\n",
    "Median - The mid point value\n",
    "Mode - The most common value\n",
    "Example: We have registered the speed of 13 cars:\n",
    "\n",
    "speed = [99,86,87,88,111,86,103,87,94,78,77,85,86]\n",
    "\n",
    "What is the average, the middle, or the most common speed value?"
   ]
  },
  {
   "cell_type": "markdown",
   "metadata": {},
   "source": [
    "#### Mean\n",
    "The mean value is the average value.\n",
    "\n",
    "To calculate the mean, find the sum of all values, and divide the sum by the number of values:\n",
    "\n",
    "(99+86+87+88+111+86+103+87+94+78+77+85+86) / 13 = 89.77"
   ]
  },
  {
   "cell_type": "code",
   "execution_count": 1,
   "metadata": {},
   "outputs": [
    {
     "name": "stdout",
     "output_type": "stream",
     "text": [
      "90.07692307692308\n"
     ]
    }
   ],
   "source": [
    "#Use the NumPy mean() method to find the average speed:\n",
    "import numpy\n",
    "speed = [99, 86, 87, 88, 111, 86, 107, 87, 94, 78, 77, 85, 86]\n",
    "x = numpy.mean(speed)\n",
    "print(x)"
   ]
  },
  {
   "cell_type": "markdown",
   "metadata": {},
   "source": [
    "#### Median\n",
    "The median value is the value in the middle, after you have sorted all the values:\n",
    "\n",
    "77, 78, 85, 86, 86, 86, 87, 87, 88, 94, 99, 103, 111"
   ]
  },
  {
   "cell_type": "markdown",
   "metadata": {},
   "source": [
    "It is important that the numbers are sorted before you can find the median."
   ]
  },
  {
   "cell_type": "code",
   "execution_count": 2,
   "metadata": {},
   "outputs": [
    {
     "name": "stdout",
     "output_type": "stream",
     "text": [
      "87.0\n"
     ]
    }
   ],
   "source": [
    "#Use the NumPy median() method to find the middle value:\n",
    "import numpy\n",
    "speed = [99, 86, 87, 88, 111, 86, 107, 87, 94, 78, 77, 85, 86]\n",
    "x = numpy.median(speed)\n",
    "print(x)"
   ]
  },
  {
   "cell_type": "markdown",
   "metadata": {},
   "source": [
    "If there are two numbers in the middle, divide the sum of those numbers by two."
   ]
  },
  {
   "cell_type": "markdown",
   "metadata": {},
   "source": [
    "77, 78, 85, 86, 86, 86, 87, 87, 94, 98, 99, 103\n",
    "\n",
    "(86 + 87) / 2 = 86.5"
   ]
  },
  {
   "cell_type": "code",
   "execution_count": 3,
   "metadata": {},
   "outputs": [
    {
     "name": "stdout",
     "output_type": "stream",
     "text": [
      "87.0\n"
     ]
    }
   ],
   "source": [
    "#Using the NumPy module:\n",
    "import numpy\n",
    "speed = [99, 86, 87, 88, 111, 86, 107, 87, 94, 78, 77, 85, 86]\n",
    "x = numpy.median(speed)\n",
    "print(x)"
   ]
  },
  {
   "cell_type": "markdown",
   "metadata": {},
   "source": [
    "#### Mode\n",
    "The Mode value is the value that appears the most number of times:\n",
    "\n",
    "99, 86, 87, 88, 111, 86, 103, 87, 94, 78, 77, 85, 86 = 86"
   ]
  },
  {
   "cell_type": "code",
   "execution_count": 4,
   "metadata": {},
   "outputs": [
    {
     "name": "stdout",
     "output_type": "stream",
     "text": [
      "ModeResult(mode=array([86]), count=array([3]))\n"
     ]
    }
   ],
   "source": [
    "#Use the SciPy mode() method to find the number that appears the most:\n",
    "from scipy import stats\n",
    "speed = [99, 86, 87, 88, 111, 86, 107, 87, 94, 78, 77, 85, 86]\n",
    "x = stats.mode(speed)\n",
    "print(x)"
   ]
  },
  {
   "cell_type": "markdown",
   "metadata": {},
   "source": [
    "### Machine Learning - Standard Deviation"
   ]
  },
  {
   "cell_type": "markdown",
   "metadata": {},
   "source": [
    "#### What is Standard Deviation?\n",
    "Standard deviation is a number that describes how spread out the values are.\n",
    "\n",
    "A low standard deviation means that most of the numbers are close to the mean (average) value.\n",
    "\n",
    "A high standard deviation means that the values are spread out over a wider range.\n",
    "\n",
    "Example: This time we have registered the speed of 7 cars:\n",
    "\n",
    "speed = [86,87,88,86,87,85,86]\n",
    "\n",
    "The standard deviation is:\n",
    "\n",
    "0.9"
   ]
  },
  {
   "cell_type": "markdown",
   "metadata": {},
   "source": [
    "Meaning that most of the values are within the range of 0.9 from the mean value, which is 86.4.\n",
    "\n",
    "Let us do the same with a selection of numbers with a wider range:\n",
    "\n",
    "speed = [32,111,138,28,59,77,97]\n",
    "\n",
    "The standard deviation is:\n",
    "\n",
    "37.85\n",
    "\n",
    "Meaning that most of the values are within the range of 37.85 from the mean value, which is 77.4.\n",
    "\n",
    "As you can see, a higher standard deviation indicates that the values are spread out over a wider range.\n",
    "\n",
    "The NumPy module has a method to calculate the standard deviation:"
   ]
  },
  {
   "cell_type": "code",
   "execution_count": 5,
   "metadata": {},
   "outputs": [
    {
     "name": "stdout",
     "output_type": "stream",
     "text": [
      "0.9035079029052513\n"
     ]
    }
   ],
   "source": [
    "#Use the NumPy std() method to find the standard deviation:\n",
    "import numpy\n",
    "speed = [86, 87, 88, 86, 87, 85, 86]\n",
    "x = numpy.std(speed)\n",
    "print(x)"
   ]
  },
  {
   "cell_type": "code",
   "execution_count": 6,
   "metadata": {},
   "outputs": [
    {
     "name": "stdout",
     "output_type": "stream",
     "text": [
      "37.84501153334721\n"
     ]
    }
   ],
   "source": [
    "import numpy\n",
    "speed = [32, 111, 138, 28, 59, 77, 97]\n",
    "x = numpy.std(speed)\n",
    "print(x)"
   ]
  },
  {
   "cell_type": "markdown",
   "metadata": {},
   "source": [
    "#### Variance\n",
    "Variance is another number that indicates how spread out the values are.\n",
    "\n",
    "In fact, if you take the square root of the variance, you get the standard deviation!\n",
    "\n",
    "Or the other way around, if you multiply the standard deviation by itself, you get the variance!\n",
    "\n",
    "To calculate the variance you have to do as follows:"
   ]
  },
  {
   "cell_type": "markdown",
   "metadata": {},
   "source": [
    "1. Find the mean:\n",
    "\n",
    "(32+111+138+28+59+77+97) / 7 = 77.4"
   ]
  },
  {
   "cell_type": "markdown",
   "metadata": {},
   "source": [
    "2. For each value: find the difference from the mean:\n",
    "\n",
    " 32 - 77.4 = -45.4,\n",
    "111 - 77.4 =  33.6,\n",
    "138 - 77.4 =  60.6,\n",
    " 28 - 77.4 = -49.4,\n",
    " 59 - 77.4 = -18.4,\n",
    " 77 - 77.4 = - 0.4,\n",
    " 97 - 77.4 =  19.6"
   ]
  },
  {
   "cell_type": "markdown",
   "metadata": {},
   "source": [
    "3. For each difference: find the square value:\n",
    "\n",
    "(-45.4)2 = 2061.16,\n",
    " (33.6)2 = 1128.96,\n",
    " (60.6)2 = 3672.36,\n",
    "(-49.4)2 = 2440.36,\n",
    "(-18.4)2 =  338.56,\n",
    "(- 0.4)2 =    0.16,\n",
    " (19.6)2 =  384.16,"
   ]
  },
  {
   "cell_type": "markdown",
   "metadata": {},
   "source": [
    "4. The variance is the average number of these squared differences:\n",
    "\n",
    "(2061.16+1128.96+3672.36+2440.36+338.56+0.16+384.16) / 7 = 1432.2"
   ]
  },
  {
   "cell_type": "markdown",
   "metadata": {},
   "source": [
    "Luckily, NumPy has a method to calculate the variance:"
   ]
  },
  {
   "cell_type": "code",
   "execution_count": 7,
   "metadata": {},
   "outputs": [
    {
     "name": "stdout",
     "output_type": "stream",
     "text": [
      "1432.2448979591834\n"
     ]
    }
   ],
   "source": [
    "#Use the NumPy var() method to find the variance:\n",
    "import numpy\n",
    "speed = [32, 111, 138, 28, 59, 77, 97]\n",
    "x = numpy.var(speed)\n",
    "print(x)"
   ]
  },
  {
   "cell_type": "markdown",
   "metadata": {},
   "source": [
    "#### Standard Deviation\n",
    "As we have learned, the formula to find the standard deviation is the square root of the variance:\n",
    "\n",
    "√1432.25 = 37.85"
   ]
  },
  {
   "cell_type": "markdown",
   "metadata": {},
   "source": [
    "Or, as in the example from before, use the NumPy to calculate the standard deviation:"
   ]
  },
  {
   "cell_type": "code",
   "execution_count": 8,
   "metadata": {},
   "outputs": [
    {
     "name": "stdout",
     "output_type": "stream",
     "text": [
      "1432.2448979591834\n"
     ]
    }
   ],
   "source": [
    "#Use the NumPy std() method to find the standard deviation:\n",
    "import numpy\n",
    "speed = [32, 111, 138, 28, 59, 77, 97]\n",
    "x = numpy.var(speed)\n",
    "print(x)"
   ]
  },
  {
   "cell_type": "markdown",
   "metadata": {},
   "source": [
    "#### Symbols\n",
    "Standard Deviation is often represented by the symbol Sigma: σ\n",
    "\n",
    "Variance is often represented by the symbol Sigma Square: σ2"
   ]
  },
  {
   "cell_type": "markdown",
   "metadata": {},
   "source": [
    "### Machine Learning - Percentiles"
   ]
  },
  {
   "cell_type": "markdown",
   "metadata": {},
   "source": [
    "#### What are Percentiles?\n",
    "Percentiles are used in statistics to give you a number that describes the value that a given percent of the values are lower than.\n",
    "\n",
    "Example: Let's say we have an array of the ages of all the people that lives in a street.\n",
    "\n",
    "ages = [5,31,43,48,50,41,7,11,15,39,80,82,32,2,8,6,25,36,27,61,31]\n",
    "\n",
    "What is the 75. percentile? The answer is 43, meaning that 75% of the people are 43 or younger.\n",
    "\n",
    "The NumPy module has a method for finding the specified percentile:"
   ]
  },
  {
   "cell_type": "code",
   "execution_count": 9,
   "metadata": {},
   "outputs": [
    {
     "name": "stdout",
     "output_type": "stream",
     "text": [
      "43.0\n"
     ]
    }
   ],
   "source": [
    "#Use the NumPy percentile() method to find the percentiles:\n",
    "import numpy\n",
    "ages = [5,31,43,48,50,41,7,11,15,39,80,82,32,2,8,6,25,36,27,61,31]\n",
    "x = numpy.percentile(ages, 75)\n",
    "print(x)"
   ]
  },
  {
   "cell_type": "code",
   "execution_count": 10,
   "metadata": {},
   "outputs": [
    {
     "name": "stdout",
     "output_type": "stream",
     "text": [
      "61.0\n"
     ]
    }
   ],
   "source": [
    "#What is the age that 90% of the people are younger than?\n",
    "import numpy\n",
    "ages = [5,31,43,48,50,41,7,11,15,39,80,82,32,2,8,6,25,36,27,61,31]\n",
    "x = numpy.percentile(ages, 90)\n",
    "print(x)"
   ]
  },
  {
   "cell_type": "markdown",
   "metadata": {},
   "source": [
    "### Machine Learning - Data Distribution"
   ]
  },
  {
   "cell_type": "markdown",
   "metadata": {},
   "source": [
    "#### Data Distribution\n",
    "Earlier in this tutorial we have worked with very small amounts of data in our examples, just to understand the different concepts.\n",
    "\n",
    "In the real world, the data sets are much bigger, but it can be difficult to gather real world data, at least at an early stage of a project."
   ]
  },
  {
   "cell_type": "markdown",
   "metadata": {},
   "source": [
    "#### How Can we Get Big Data Sets?\n",
    "To create big data sets for testing, we use the Python module NumPy, which comes with a number of methods to create random data sets, of any size."
   ]
  },
  {
   "cell_type": "code",
   "execution_count": 11,
   "metadata": {},
   "outputs": [
    {
     "name": "stdout",
     "output_type": "stream",
     "text": [
      "[1.34261988 1.49249384 1.4458694  1.75587981 4.06390166 4.82847312\n",
      " 3.10240477 4.10519916 1.83248939 2.48261789 4.96406048 2.73363572\n",
      " 4.00322999 4.60415438 3.16995233 1.11554101 4.62226963 2.88336603\n",
      " 0.54086385 1.40048775 0.25213527 1.46862477 1.07537518 0.62193423\n",
      " 2.40923234 3.67639083 1.79892494 2.29281005 2.14954765 0.54624494\n",
      " 2.06489346 3.59189224 2.9948933  4.47250711 0.74636773 4.48724349\n",
      " 4.50143273 1.47581072 4.17338168 4.58735322 1.16785471 0.14339433\n",
      " 3.37391977 0.90560677 1.4728373  1.93753036 0.30206754 4.4040561\n",
      " 1.10407716 0.29943388 3.15277438 3.9781512  2.36346064 0.81279678\n",
      " 3.85620864 3.30229523 1.87225336 1.46873255 1.69414421 3.25525717\n",
      " 1.47488905 3.71636942 0.58325348 4.40091738 4.77051478 3.1380417\n",
      " 3.4001132  0.86035736 0.79558521 3.09241549 1.66545792 1.40911153\n",
      " 1.68925406 0.5970666  1.3213228  3.44026994 3.62543802 1.03941412\n",
      " 1.28811765 3.71491199 0.1928618  1.62179069 2.34834118 1.82131931\n",
      " 3.10732251 3.51531179 0.52510586 4.68067693 3.17518099 2.60043717\n",
      " 0.38297858 3.78135722 0.18375804 1.84119198 3.35000399 1.64882892\n",
      " 1.35328402 3.04799817 0.83895564 1.47772985 4.73656827 3.01937663\n",
      " 2.86610762 0.55517392 0.72256182 1.95337256 3.6004756  3.80509943\n",
      " 4.58528491 3.90351311 2.25283793 2.35981548 0.18454318 2.55315991\n",
      " 0.08621081 0.10045646 3.08906403 4.56698449 3.15693145 4.08610353\n",
      " 4.10847249 4.35221306 1.10861198 4.83333338 2.701616   2.1188561\n",
      " 2.91434292 4.59299289 3.15848022 3.37882794 2.92227354 1.05327228\n",
      " 4.61182799 1.40749388 3.68782442 4.5796945  2.1374005  0.84946975\n",
      " 1.70137004 4.84994704 3.24782497 2.21579979 1.25554555 0.21304015\n",
      " 0.2699831  3.28113466 3.46990588 1.34059225 3.25971141 0.34084022\n",
      " 1.02962382 4.41131758 4.84660041 1.31344205 4.54456276 4.05449597\n",
      " 2.77288675 4.71775226 2.0598791  0.80316982 3.24932399 3.28975335\n",
      " 1.41212695 1.61170573 1.60783204 3.57961502 2.86781947 1.6562505\n",
      " 1.60893293 0.04452969 1.97733715 0.45863147 1.41072844 3.32432787\n",
      " 4.68542051 4.44065895 4.77211643 3.76395499 3.14520415 4.66786481\n",
      " 3.48447042 4.97089016 3.96564761 2.39398436 2.18012588 3.54373912\n",
      " 1.52793625 3.33698624 1.65282606 4.28214152 3.80431934 3.97026195\n",
      " 0.23364738 4.1752531  1.26867979 2.00054214 1.03585053 1.94440162\n",
      " 1.71466844 2.22116307 4.41717397 0.75699511 2.00042924 3.30763977\n",
      " 3.85047605 3.62635721 3.66401833 4.65182504 2.95575062 0.74418266\n",
      " 4.50160878 2.39991222 2.36023618 2.58884001 3.80118071 3.8635167\n",
      " 1.44803625 0.74960132 4.93049596 1.71618675 3.2768986  3.85852502\n",
      " 1.51797601 2.6830649  1.71524577 4.16429467 3.04219902 2.32631252\n",
      " 1.83635972 4.10664769 0.48320555 0.81120927 1.32159851 4.01656706\n",
      " 3.13640532 2.19782265 3.77229594 1.25021239 0.07650479 0.97766772\n",
      " 4.22568189 1.30521839 2.72066405 3.44970811 3.07206459 2.55746529\n",
      " 4.09930289 2.8841891  0.14402336 2.43271041]\n"
     ]
    }
   ],
   "source": [
    "#Create an array containing 250 random floats between 0 and 5:\n",
    "import numpy\n",
    "x = numpy.random.uniform(0.0, 5.0, 250)\n",
    "print(x)"
   ]
  },
  {
   "cell_type": "markdown",
   "metadata": {},
   "source": [
    "#### Histogram\n",
    "To visualize the data set we can draw a histogram with the data we collected.\n",
    "\n",
    "We will use the Python module Matplotlib to draw a histogram."
   ]
  },
  {
   "cell_type": "code",
   "execution_count": 12,
   "metadata": {},
   "outputs": [
    {
     "data": {
      "image/png": "[encoded data removed]",
      "text/plain": [
       "<Figure size 432x288 with 1 Axes>"
      ]
     },
     "metadata": {
      "needs_background": "light"
     },
     "output_type": "display_data"
    }
   ],
   "source": [
    "import numpy\n",
    "import matplotlib.pyplot as plt\n",
    "x = numpy.random.uniform(0.0, 5.0, 250)\n",
    "plt.hist(x, 5)\n",
    "plt.show()"
   ]
  },
  {
   "cell_type": "markdown",
   "metadata": {},
   "source": [
    "Histogram Explained\n",
    "We use the array from the example above to draw a histogram with 5 bars.\n",
    "\n",
    "The first bar represents how many values in the array are between 0 and 1.\n",
    "\n",
    "The second bar represents how many values are between 1 and 2.\n",
    "\n",
    "Etc.\n",
    "\n",
    "Which gives us this result:\n",
    "\n",
    "52 values are between 0 and 1,\n",
    "48 values are between 1 and 2,\n",
    "49 values are between 2 and 3,\n",
    "51 values are between 3 and 4,\n",
    "50 values are between 4 and 5."
   ]
  },
  {
   "cell_type": "markdown",
   "metadata": {},
   "source": [
    "Note: The array values are random numbers and will not show the exact same result on your computer."
   ]
  },
  {
   "cell_type": "markdown",
   "metadata": {},
   "source": [
    "#### Big Data Distributions\n",
    "An array containing 250 values is not considered very big, but now you know how to create a random set of values, and by changing the parameters, you can create the data set as big as you want."
   ]
  },
  {
   "cell_type": "code",
   "execution_count": 15,
   "metadata": {},
   "outputs": [
    {
     "data": {
      "image/png": "[encoded data removed]",
      "text/plain": [
       "<Figure size 432x288 with 1 Axes>"
      ]
     },
     "metadata": {
      "needs_background": "light"
     },
     "output_type": "display_data"
    }
   ],
   "source": [
    "import numpy\n",
    "import matplotlib.pyplot as plt\n",
    "x = numpy.random.uniform(0.0, 5.0, 100000)\n",
    "plt.hist(x, 100)\n",
    "plt.show()"
   ]
  },
  {
   "cell_type": "markdown",
   "metadata": {},
   "source": [
    "### Machine Learning -Normal Data Distribuition"
   ]
  },
  {
   "cell_type": "markdown",
   "metadata": {},
   "source": [
    "#### Normal Data Distribution\n",
    "In the previous chapter we learned how to create a completely random array, of a given size, and between two given values.\n",
    "\n",
    "In this chapter we will learn how to create an array where the values are concentrated around a given value.\n",
    "\n",
    "In probability theory this kind of data distribution is known as the normal data distribution, or the Gaussian data distribution, after the mathematician Carl Friedrich Gauss who came up with the formula of this data distribution."
   ]
  },
  {
   "cell_type": "code",
   "execution_count": 1,
   "metadata": {},
   "outputs": [
    {
     "data": {
      "image/png": "[encoded data removed]",
      "text/plain": [
       "<Figure size 432x288 with 1 Axes>"
      ]
     },
     "metadata": {
      "needs_background": "light"
     },
     "output_type": "display_data"
    }
   ],
   "source": [
    "#A typical normal data distribution:\n",
    "import numpy\n",
    "import matplotlib.pyplot as plt\n",
    "x = numpy.random.normal(5.0, 1.0, 100000)\n",
    "plt.hist(x, 100)\n",
    "plt.show()"
   ]
  },
  {
   "cell_type": "markdown",
   "metadata": {},
   "source": [
    "Note: A normal distribution graph is also known as the bell curve because of it's characteristic shape of a bell."
   ]
  },
  {
   "cell_type": "markdown",
   "metadata": {},
   "source": [
    "#### Histogram Explained\n",
    "We use the array from the numpy.random.normal() method, with 100000 values,  to draw a histogram with 100 bars.\n",
    "\n",
    "We specify that the mean value is 5.0, and the standard deviation is 1.0.\n",
    "\n",
    "Meaning that the values should be concentrated around 5.0, and rarely further away than 1.0 from the mean.\n",
    "\n",
    "And as you can see from the histogram, most values are between 4.0 and 6.0, with a top at approximately 5.0."
   ]
  },
  {
   "cell_type": "markdown",
   "metadata": {},
   "source": [
    "### Machine Learning - Scatter Plot"
   ]
  },
  {
   "cell_type": "markdown",
   "metadata": {},
   "source": [
    "#### Scatter Plot\n",
    "A scatter plot is a diagram where each value in the data set is represented by a dot."
   ]
  },
  {
   "cell_type": "markdown",
   "metadata": {},
   "source": [
    "The Matplotlib module has a method for drawing scatter plots, it needs two arrays of the same length, one for the values of the x-axis, and one for the values of the y-axis:"
   ]
  },
  {
   "cell_type": "markdown",
   "metadata": {},
   "source": [
    "The x array represents the age of each car.\n",
    "\n",
    "The y array represents the speed of each car."
   ]
  },
  {
   "cell_type": "code",
   "execution_count": 2,
   "metadata": {},
   "outputs": [
    {
     "data": {
      "image/png": "[encoded data removed]",
      "text/plain": [
       "<Figure size 432x288 with 1 Axes>"
      ]
     },
     "metadata": {
      "needs_background": "light"
     },
     "output_type": "display_data"
    }
   ],
   "source": [
    "#Use the scatter() method to draw a scatter plot diagram:\n",
    "import matplotlib.pyplot as plt\n",
    "x = [5,7,8,7,2,17,2,9,4,11,12,9,6]\n",
    "y = [99,86,87,88,111,86,103,87,94,78,77,85,86]\n",
    "plt.scatter(x, y)\n",
    "plt.show()"
   ]
  },
  {
   "cell_type": "markdown",
   "metadata": {},
   "source": [
    "Note: It seems that the newer the car, the faster it drives, but that could be a coincidence, after all we only registered 13 cars."
   ]
  },
  {
   "cell_type": "markdown",
   "metadata": {},
   "source": [
    "#### Random Data Distributions\n",
    "In Machine Learning the data sets can contain thousands-, or even millions, of values.\n",
    "\n",
    "You might not have real world data when you are testing an algorithm, you might have to use randomly generated values.\n",
    "\n",
    "As we have learned in the previous chapter, the NumPy module can help us with that!\n",
    "\n",
    "Let us create two arrays that are both filled with 1000 random numbers from a normal data distribution.\n",
    "\n",
    "The first array will have the mean set to 5.0 with a standard deviation of 1.0.\n",
    "\n",
    "The second array will have the mean set to 10.0 with a standard deviation of 2.0:"
   ]
  },
  {
   "cell_type": "code",
   "execution_count": 4,
   "metadata": {},
   "outputs": [
    {
     "data": {
      "image/png": "[encoded data removed]",
      "text/plain": [
       "<Figure size 432x288 with 1 Axes>"
      ]
     },
     "metadata": {
      "needs_background": "light"
     },
     "output_type": "display_data"
    }
   ],
   "source": [
    "#A scatter plot with 1000 dots:\n",
    "x = numpy.random.normal(5.0, 1.0, 1000)\n",
    "y = numpy.random.normal(10.0, 2.0, 1000)\n",
    "plt.scatter(x, y)\n",
    "plt.show()"
   ]
  },
  {
   "cell_type": "markdown",
   "metadata": {},
   "source": [
    "#### Scatter Plot Explained\n",
    "We can see that the dots are concentrated around the value 5 on the x-axis, and 10 on the y-axis.\n",
    "\n",
    "We can also see that the spread is wider on the y-axis than on the x-axis."
   ]
  },
  {
   "cell_type": "markdown",
   "metadata": {},
   "source": [
    "### Machine Learning - Linear Regression"
   ]
  },
  {
   "cell_type": "markdown",
   "metadata": {},
   "source": [
    "#### Regression\n",
    "The term regression is used when you try to find the relationship between variables.\n",
    "\n",
    "In Machine Learning, and in statistical modeling, that relationship is used to predict the outcome of future events."
   ]
  },
  {
   "cell_type": "markdown",
   "metadata": {},
   "source": [
    "#### Linear Regression\n",
    "Linear regression uses the relationship between the data-points to draw a straight line through all them.\n",
    "\n",
    "This line can be used to predict future values."
   ]
  },
  {
   "cell_type": "markdown",
   "metadata": {},
   "source": [
    "In Machine Learning, predicting the future is very important."
   ]
  },
  {
   "cell_type": "markdown",
   "metadata": {},
   "source": [
    "#### How Does it Work?\n",
    "Python has methods for finding a relationship between data-points and to draw a line of linear regression. We will show you how to use these methods instead of going through the mathematic formula.\n",
    "\n",
    "In the example below, the x-axis represents age, and the y-axis represents speed. We have registered the age and speed of 13 cars as they were passing a tollbooth. Let us see if the data we collected could be used in a linear regression:"
   ]
  },
  {
   "cell_type": "code",
   "execution_count": 2,
   "metadata": {},
   "outputs": [
    {
     "data": {
      "image/png": "[encoded data removed]",
      "text/plain": [
       "<Figure size 432x288 with 1 Axes>"
      ]
     },
     "metadata": {
      "needs_background": "light"
     },
     "output_type": "display_data"
    }
   ],
   "source": [
    "#Start by drawing a scatter plot:\n",
    "import matplotlib.pyplot as plt\n",
    "x = [5,7,8,7,2,17,2,9,4,11,12,9,6]\n",
    "y = [99,86,87,88,111,86,103,87,94,78,77,85,86]\n",
    "plt.scatter(x, y)\n",
    "plt.show()"
   ]
  },
  {
   "cell_type": "code",
   "execution_count": 3,
   "metadata": {},
   "outputs": [
    {
     "data": {
      "image/png": "[encoded data removed]",
      "text/plain": [
       "<Figure size 432x288 with 1 Axes>"
      ]
     },
     "metadata": {
      "needs_background": "light"
     },
     "output_type": "display_data"
    }
   ],
   "source": [
    "#Import scipy and draw the line of Linear Regression:\n",
    "import matplotlib.pyplot as plt\n",
    "from scipy import stats\n",
    "x = [5,7,8,7,2,17,2,9,4,11,12,9,6]\n",
    "y = [99,86,87,88,111,86,103,87,94,78,77,85,86]\n",
    "slope, intercept, r, p, std_err, = stats.linregress(x, y)\n",
    "def myfunc(x):\n",
    "    return slope * x + intercept\n",
    "mymodel = list(map(myfunc, x))\n",
    "plt.scatter(x, y)\n",
    "plt.plot(x, mymodel)\n",
    "plt.show()"
   ]
  },
  {
   "cell_type": "markdown",
   "metadata": {},
   "source": [
    "#### Example Explained\n",
    "Import the modules you need.\n",
    "\n",
    "You can learn about the Matplotlib module in our Matplotlib Tutorial.\n",
    "\n",
    "You can learn about the SciPy module in our SciPy Tutorial.\n",
    "\n",
    "import matplotlib.pyplot as plt\n",
    "from scipy import stats\n",
    "\n",
    "Create the arrays that represent the values of the x and y axis:\n",
    "\n",
    "x = [5,7,8,7,2,17,2,9,4,11,12,9,6]\n",
    "y = [99,86,87,88,111,86,103,87,94,78,77,85,86]\n",
    "\n",
    "Execute a method that returns some important key values of Linear Regression:\n",
    "\n",
    "slope, intercept, r, p, std_err = stats.linregress(x, y)\n",
    "\n",
    "Create a function that uses the slope and intercept values to return a new value. This new value represents where on the y-axis the corresponding x value will be placed:\n",
    "\n",
    "def myfunc(x):\n",
    "  return slope * x + intercept\n",
    "\n",
    "Run each value of the x array through the function. This will result in a new array with new values for the y-axis:\n",
    "\n",
    "mymodel = list(map(myfunc, x))\n",
    "\n",
    "Draw the original scatter plot:\n",
    "\n",
    "plt.scatter(x, y)\n",
    "\n",
    "Draw the line of linear regression:\n",
    "\n",
    "plt.plot(x, mymodel)\n",
    "\n",
    "Display the diagram:\n",
    "\n",
    "plt.show()\n",
    "\n"
   ]
  },
  {
   "cell_type": "markdown",
   "metadata": {},
   "source": [
    "#### R for Relationship\n",
    "It is important to know how the relationship between the values of the x-axis and the values of the y-axis is, if there are no relationship the linear regression can not be used to predict anything.\n",
    "\n",
    "This relationship - the coefficient of correlation - is called r.\n",
    "\n",
    "The r value ranges from -1 to 1, where 0 means no relationship, and 1 (and -1) means 100% related.\n",
    "\n",
    "Python and the Scipy module will compute this value for you, all you have to do is feed it with the x and y values."
   ]
  },
  {
   "cell_type": "code",
   "execution_count": 4,
   "metadata": {},
   "outputs": [
    {
     "name": "stdout",
     "output_type": "stream",
     "text": [
      "-0.758591524376155\n"
     ]
    }
   ],
   "source": [
    "#How well does my data fit in a linear regression?\n",
    "from scipy import stats\n",
    "x = [5,7,8,7,2,17,2,9,4,11,12,9,6]\n",
    "y = [99,86,87,88,111,86,103,87,94,78,77,85,86]\n",
    "slope, intercept, r, p, stderr = stats.linregress(x, y)\n",
    "print(r)"
   ]
  },
  {
   "cell_type": "markdown",
   "metadata": {},
   "source": [
    "Note: The result -0.76 shows that there is a relationship, not perfect, but it indicates that we could use linear regression in future predictions."
   ]
  },
  {
   "cell_type": "markdown",
   "metadata": {},
   "source": [
    "#### Predict Future Values\n",
    "Now we can use the information we have gathered to predict future values.\n",
    "\n",
    "Example: Let us try to predict the speed of a 10 years old car.\n",
    "\n",
    "To do so, we need the same myfunc() function from the example above:\n",
    "\n",
    "def myfunc(x):\n",
    "  return slope * x + intercept"
   ]
  },
  {
   "cell_type": "code",
   "execution_count": 8,
   "metadata": {},
   "outputs": [
    {
     "name": "stdout",
     "output_type": "stream",
     "text": [
      "85.59308314937454\n"
     ]
    },
    {
     "data": {
      "image/png": "[encoded data removed]",
      "text/plain": [
       "<Figure size 432x288 with 1 Axes>"
      ]
     },
     "metadata": {
      "needs_background": "light"
     },
     "output_type": "display_data"
    }
   ],
   "source": [
    "#Predict the speed of a 10 years old car:\n",
    "from scipy import stats\n",
    "x = [5,7,8,7,2,17,2,9,4,11,12,9,6]\n",
    "y = [99,86,87,88,111,86,103,87,94,78,77,85,86]\n",
    "slope, intercept, r, p, stderr = stats.linregress(x, y)\n",
    "def myfunc(x):\n",
    "    return slope * x + intercept\n",
    "speed = myfunc(10)\n",
    "print(speed)\n",
    "plt.scatter(x, y)\n",
    "plt.plot(x, mymodel)\n",
    "plt.show()"
   ]
  },
  {
   "cell_type": "markdown",
   "metadata": {},
   "source": [
    "#### Bad Fit?\n",
    "Let us create an example where linear regression would not be the best method to predict future values."
   ]
  },
  {
   "cell_type": "code",
   "execution_count": 9,
   "metadata": {},
   "outputs": [
    {
     "data": {
      "image/png": "[encoded data removed]",
      "text/plain": [
       "<Figure size 432x288 with 1 Axes>"
      ]
     },
     "metadata": {
      "needs_background": "light"
     },
     "output_type": "display_data"
    }
   ],
   "source": [
    "#These values for the x- and y-axis should result in a very bad fit for linear regression:\n",
    "import matplotlib.pyplot as plt\n",
    "from scipy import stats\n",
    "x = [89,43,36,36,95,10,66,34,38,20,26,29,48,64,6,5,36,66,72,40]\n",
    "y = [21,46,3,35,67,95,53,72,58,10,26,34,90,33,38,20,56,2,47,15]\n",
    "slope, intercept, r, p, stderr = stats.linregress(x, y)\n",
    "def myfunc(x):\n",
    "    return slope * x + intercept\n",
    "mymodel = list(map(myfunc, x))\n",
    "plt.scatter(x, y)\n",
    "plt.plot(x, mymodel)\n",
    "plt.show()"
   ]
  },
  {
   "cell_type": "markdown",
   "metadata": {},
   "source": [
    "And the r for relationship?"
   ]
  },
  {
   "cell_type": "code",
   "execution_count": 10,
   "metadata": {},
   "outputs": [
    {
     "name": "stdout",
     "output_type": "stream",
     "text": [
      "0.01331814154297491\n"
     ]
    }
   ],
   "source": [
    "#You should get a very low r value.\n",
    "import numpy\n",
    "from scipy import stats\n",
    "x = [89,43,36,36,95,10,66,34,38,20,26,29,48,64,6,5,36,66,72,40]\n",
    "y = [21,46,3,35,67,95,53,72,58,10,26,34,90,33,38,20,56,2,47,15]\n",
    "slope, intercept, r, p, stderr = stats.linregress(x, y)\n",
    "print(r)"
   ]
  },
  {
   "cell_type": "markdown",
   "metadata": {},
   "source": [
    "The result: 0.013 indicates a very bad relationship, and tells us that this data set is not suitable for linear regression."
   ]
  },
  {
   "cell_type": "markdown",
   "metadata": {},
   "source": [
    "### Machine Learning - Polynomial Regression"
   ]
  },
  {
   "cell_type": "markdown",
   "metadata": {},
   "source": [
    "#### Polynomial Regression\n",
    "If your data points clearly will not fit a linear regression (a straight line through all data points), it might be ideal for polynomial regression.\n",
    "\n",
    "Polynomial regression, like linear regression, uses the relationship between the variables x and y to find the best way to draw a line through the data points."
   ]
  },
  {
   "cell_type": "markdown",
   "metadata": {},
   "source": [
    "#### How Does it Work?\n",
    "Python has methods for finding a relationship between data-points and to draw a line of polynomial regression. We will show you how to use these methods instead of going through the mathematic formula.\n",
    "\n",
    "In the example below, we have registered 18 cars as they were passing a certain tollbooth.\n",
    "\n",
    "We have registered the car's speed, and the time of day (hour) the passing occurred.\n",
    "\n",
    "The x-axis represents the hours of the day and the y-axis represents the speed:"
   ]
  },
  {
   "cell_type": "code",
   "execution_count": 11,
   "metadata": {},
   "outputs": [
    {
     "data": {
      "image/png": "[encoded data removed]",
      "text/plain": [
       "<Figure size 432x288 with 1 Axes>"
      ]
     },
     "metadata": {
      "needs_background": "light"
     },
     "output_type": "display_data"
    }
   ],
   "source": [
    "#Start by drawing a scatter plot:\n",
    "import matplotlib.pyplot as plt\n",
    "x = [1,2,3,5,6,7,8,9,10,12,13,14,15,16,18,19,21,22]\n",
    "y = [100,90,80,60,60,55,60,65,70,70,75,76,78,79,90,99,99,100]\n",
    "plt.scatter(x, y)\n",
    "plt.show()"
   ]
  },
  {
   "cell_type": "code",
   "execution_count": 12,
   "metadata": {},
   "outputs": [
    {
     "data": {
      "image/png": "[encoded data removed]",
      "text/plain": [
       "<Figure size 432x288 with 1 Axes>"
      ]
     },
     "metadata": {
      "needs_background": "light"
     },
     "output_type": "display_data"
    }
   ],
   "source": [
    "#Import numpy and matplotlib then draw the line of Polynomial Regression:\n",
    "import numpy\n",
    "import matplotlib.pyplot as plt\n",
    "x = [1,2,3,5,6,7,8,9,10,12,13,14,15,16,18,19,21,22]\n",
    "y = [100,90,80,60,60,55,60,65,70,70,75,76,78,79,90,99,99,100]\n",
    "mymodel = numpy.poly1d(numpy.polyfit(x, y, 3))\n",
    "myline = numpy.linspace(1, 22, 100)\n",
    "plt.scatter(x, y)\n",
    "plt.plot(myline, mymodel(myline))\n",
    "plt.show()"
   ]
  },
  {
   "cell_type": "markdown",
   "metadata": {},
   "source": [
    "#### Example Explained\n",
    "Import the modules you need.\n",
    "\n",
    "You can learn about the NumPy module in our NumPy Tutorial.\n",
    "\n",
    "You can learn about the SciPy module in our SciPy Tutorial.\n",
    "\n",
    "import numpy\n",
    "import matplotlib.pyplot as plt\n",
    "\n",
    "Create the arrays that represent the values of the x and y axis:\n",
    "\n",
    "x = [1,2,3,5,6,7,8,9,10,12,13,14,15,16,18,19,21,22]\n",
    "y = [100,90,80,60,60,55,60,65,70,70,75,76,78,79,90,99,99,100]\n",
    "\n",
    "NumPy has a method that lets us make a polynomial model:\n",
    "\n",
    "mymodel = numpy.poly1d(numpy.polyfit(x, y, 3))\n",
    "\n",
    "Then specify how the line will display, we start at position 1, and end at position 22:\n",
    "\n",
    "myline = numpy.linspace(1, 22, 100)\n",
    "\n",
    "Draw the original scatter plot:\n",
    "\n",
    "plt.scatter(x, y)\n",
    "\n",
    "Draw the line of polynomial regression:\n",
    "\n",
    "plt.plot(myline, mymodel(myline))\n",
    "\n",
    "Display the diagram:\n",
    "\n",
    "plt.show()"
   ]
  },
  {
   "cell_type": "markdown",
   "metadata": {},
   "source": [
    "#### R-Squared\n",
    "It is important to know how well the relationship between the values of the x- and y-axis is, if there are no relationship the polynomial regression can not be used to predict anything.\n",
    "\n",
    "The relationship is measured with a value called the r-squared.\n",
    "\n",
    "The r-squared value ranges from 0 to 1, where 0 means no relationship, and 1 means 100% related.\n",
    "\n",
    "Python and the Sklearn module will compute this value for you, all you have to do is feed it with the x and y arrays:"
   ]
  },
  {
   "cell_type": "code",
   "execution_count": 15,
   "metadata": {},
   "outputs": [
    {
     "name": "stdout",
     "output_type": "stream",
     "text": [
      "0.9432150416451026\n"
     ]
    }
   ],
   "source": [
    "#How well does my data fit in a polynomial regression?\n",
    "import numpy\n",
    "from sklearn.metrics import r2_score\n",
    "x = [1,2,3,5,6,7,8,9,10,12,13,14,15,16,18,19,21,22]\n",
    "y = [100,90,80,60,60,55,60,65,70,70,75,76,78,79,90,99,99,100]\n",
    "mumodel = numpy.poly1d(numpy.polyfit(x, y, 3))\n",
    "print(r2_score(y, mymodel(x)))"
   ]
  },
  {
   "cell_type": "markdown",
   "metadata": {},
   "source": [
    "Note: The result 0.94 shows that there is a very good relationship, and we can use polynomial regression in future predictions."
   ]
  },
  {
   "cell_type": "markdown",
   "metadata": {},
   "source": [
    "#### Predict Future Values\n",
    "Now we can use the information we have gathered to predict future values.\n",
    "\n",
    "Example: Let us try to predict the speed of a car that passes the tollbooth at around 17 P.M:\n",
    "\n",
    "To do so, we need the same mymodel array from the example above:\n",
    "\n",
    "mymodel = numpy.poly1d(numpy.polyfit(x, y, 3))"
   ]
  },
  {
   "cell_type": "code",
   "execution_count": 20,
   "metadata": {},
   "outputs": [
    {
     "name": "stdout",
     "output_type": "stream",
     "text": [
      "88.87331269697978\n"
     ]
    },
    {
     "data": {
      "image/png": "[encoded data removed]",
      "text/plain": [
       "<Figure size 432x288 with 1 Axes>"
      ]
     },
     "metadata": {
      "needs_background": "light"
     },
     "output_type": "display_data"
    }
   ],
   "source": [
    "import numpy\n",
    "from sklearn.metrics import r2_score\n",
    "x = [1,2,3,5,6,7,8,9,10,12,13,14,15,16,18,19,21,22]\n",
    "y = [100,90,80,60,60,55,60,65,70,70,75,76,78,79,90,99,99,100]\n",
    "mymodel = numpy.poly1d(numpy.polyfit(x, y, 3))\n",
    "speed = mymodel(17)\n",
    "print(speed)\n",
    "#The example predicted a speed to be 88.87, which we also could read from the diagram:\n",
    "plt.scatter(x, y)\n",
    "plt.plot(myline, mymodel(myline))\n",
    "plt.show()"
   ]
  },
  {
   "cell_type": "markdown",
   "metadata": {},
   "source": [
    "#### Bad Fit?\n",
    "Let us create an example where polynomial regression would not be the best method to predict future values."
   ]
  },
  {
   "cell_type": "code",
   "execution_count": 21,
   "metadata": {},
   "outputs": [
    {
     "data": {
      "image/png": "[encoded data removed]",
      "text/plain": [
       "<Figure size 432x288 with 1 Axes>"
      ]
     },
     "metadata": {
      "needs_background": "light"
     },
     "output_type": "display_data"
    }
   ],
   "source": [
    "#These values for the x- and y-axis should result in a very bad fit for polynomial regression:\n",
    "import numpy\n",
    "import matplotlib.pyplot as plt\n",
    "x = [89,43,36,36,95,10,66,34,38,20,26,29,48,64,6,5,36,66,72,40]\n",
    "y = [21,46,3,35,67,95,53,72,58,10,26,34,90,33,38,20,56,2,47,15]\n",
    "mymodel = numpy.poly1d(numpy.polyfit(x, y, 3))\n",
    "myline = numpy.linspace(2, 95, 100)\n",
    "plt.scatter(x, y)\n",
    "plt.plot(myline, mymodel(myline))\n",
    "plt.show()"
   ]
  },
  {
   "cell_type": "markdown",
   "metadata": {},
   "source": [
    "And the r-squared value?"
   ]
  },
  {
   "cell_type": "code",
   "execution_count": 22,
   "metadata": {},
   "outputs": [
    {
     "name": "stdout",
     "output_type": "stream",
     "text": [
      "0.009952707566680652\n"
     ]
    }
   ],
   "source": [
    "#You should get a very low r-squared value.\n",
    "import numpy\n",
    "from sklearn.metrics import r2_score\n",
    "x = [89,43,36,36,95,10,66,34,38,20,26,29,48,64,6,5,36,66,72,40]\n",
    "y = [21,46,3,35,67,95,53,72,58,10,26,34,90,33,38,20,56,2,47,15]\n",
    "mymodel = numpy.poly1d(numpy.polyfit(x, y, 3))\n",
    "print(r2_score(y, mymodel(x)))"
   ]
  },
  {
   "cell_type": "markdown",
   "metadata": {},
   "source": [
    "The result: 0.00995 indicates a very bad relationship, and tells us that this data set is not suitable for polynomial regression."
   ]
  },
  {
   "cell_type": "markdown",
   "metadata": {},
   "source": [
    "### Machine Learning - Multiple Regression"
   ]
  },
  {
   "cell_type": "markdown",
   "metadata": {},
   "source": [
    "#### Multiple Regression\n",
    "Multiple regression is like linear regression, but with more than one independent value, meaning that we try to predict a value based on two or more variables.\n",
    "\n",
    "Take a look at the data set below, it contains some information about cars."
   ]
  },
  {
   "cell_type": "markdown",
   "metadata": {},
   "source": [
    "We can predict the CO2 emission of a car based on the size of the engine, but with multiple regression we can throw in more variables, like the weight of the car, to make the prediction more accurate."
   ]
  },
  {
   "cell_type": "markdown",
   "metadata": {},
   "source": [
    "#### How Does it Work?\n",
    "In Python we have modules that will do the work for us. Start by importing the Pandas module.\n",
    "\n",
    "import pandas\n",
    "\n",
    "Learn about the Pandas module in our Pandas Tutorial.\n",
    "\n",
    "The Pandas module allows us to read csv files and return a DataFrame object.\n",
    "\n",
    "The file is meant for testing purposes only, you can download it here: cars.csv\n",
    "\n",
    "df = pandas.read_csv(\"cars.csv\")\n",
    "\n",
    "Then make a list of the independent values and call this variable X.\n",
    "\n",
    "Put the dependent values in a variable called y.\n",
    "\n",
    "X = df[['Weight', 'Volume']]\n",
    "y = df['CO2']\n",
    "\n",
    "Tip: It is common to name the list of independent values with a upper case X, and the list of dependent values with a lower case y.\n",
    "\n",
    "We will use some methods from the sklearn module, so we will have to import that module as well:\n",
    "\n",
    "from sklearn import linear_model\n",
    "\n",
    "From the sklearn module we will use the LinearRegression() method to create a linear regression object.\n",
    "\n",
    "This object has a method called fit() that takes the independent and dependent values as parameters and fills the regression object with data that describes the relationship:\n",
    "\n",
    "regr = linear_model.LinearRegression()\n",
    "regr.fit(X, y)\n",
    "\n",
    "Now we have a regression object that are ready to predict CO2 values based on a car's weight and volume:\n",
    "\n",
    "#predict the CO2 emission of a car where the weight is 2300kg, and the volume is 1300cm3:\n",
    "predictedCO2 = regr.predict([[2300, 1300]])"
   ]
  },
  {
   "cell_type": "code",
   "execution_count": 9,
   "metadata": {},
   "outputs": [
    {
     "name": "stdout",
     "output_type": "stream",
     "text": [
      "[107.2087328]\n"
     ]
    }
   ],
   "source": [
    "#See the whole example in action:\n",
    "import pandas \n",
    "from sklearn import linear_model\n",
    "df = pandas.read_csv('cars (2).csv')\n",
    "X = df[['Weight', 'Volume']]\n",
    "y = df['CO2']\n",
    "regr = linear_model.LinearRegression()\n",
    "regr.fit(X, y)\n",
    "#predict the co2 emission of a car where the weight is 2300kg, and the volume is 1300cm3;\n",
    "predictedCO2 = regr.predict([[2300, 1300]])\n",
    "print(predictedCO2)"
   ]
  },
  {
   "cell_type": "markdown",
   "metadata": {},
   "source": [
    "We have predicted that a car with 1.3 liter engine, and a weight of 2300 kg, will release approximately 107 grams of CO2 for every kilometer it drives."
   ]
  },
  {
   "cell_type": "markdown",
   "metadata": {},
   "source": [
    "#### Coefficient\n",
    "The coefficient is a factor that describes the relationship with an unknown variable.\n",
    "\n",
    "Example: if x is a variable, then 2x is x two times. x is the unknown variable, and the number 2 is the coefficient.\n",
    "\n",
    "In this case, we can ask for the coefficient value of weight against CO2, and for volume against CO2. The answer(s) we get tells us what would happen if we increase, or decrease, one of the independent values."
   ]
  },
  {
   "cell_type": "code",
   "execution_count": 12,
   "metadata": {},
   "outputs": [
    {
     "name": "stdout",
     "output_type": "stream",
     "text": [
      "[0.00755095 0.00780526]\n"
     ]
    }
   ],
   "source": [
    "#Print the coefficient values of the regression object:\n",
    "import pandas \n",
    "from sklearn import linear_model\n",
    "df = pandas.read_csv('cars (2).csv')\n",
    "X = df[['Weight', 'Volume']]\n",
    "y = df['CO2']\n",
    "regr = linear_model.LinearRegression()\n",
    "regr.fit(X, y)\n",
    "print(regr.coef_)"
   ]
  },
  {
   "cell_type": "markdown",
   "metadata": {},
   "source": [
    "#### Result Explained\n",
    "The result array represents the coefficient values of weight and volume.\n",
    "\n",
    "Weight: 0.00755095\n",
    "Volume: 0.00780526\n",
    "\n",
    "These values tell us that if the weight increase by 1kg, the CO2 emission increases by 0.00755095g.\n",
    "\n",
    "And if the engine size (Volume) increases by 1 cm3, the CO2 emission increases by 0.00780526 g.\n",
    "\n",
    "I think that is a fair guess, but let test it!\n",
    "\n",
    "We have already predicted that if a car with a 1300cm3 engine weighs 2300kg, the CO2 emission will be approximately 107g.\n",
    "\n",
    "What if we increase the weight with 1000kg?"
   ]
  },
  {
   "cell_type": "code",
   "execution_count": 13,
   "metadata": {},
   "outputs": [
    {
     "name": "stdout",
     "output_type": "stream",
     "text": [
      "[114.75968007]\n"
     ]
    }
   ],
   "source": [
    "#Copy the example from before, but change the weight from 2300 to 3300:\n",
    "import pandas \n",
    "from sklearn import linear_model\n",
    "df = pandas.read_csv('cars (2).csv')\n",
    "X = df[['Weight', 'Volume']]\n",
    "y = df['CO2']\n",
    "regr = linear_model.LinearRegression()\n",
    "regr.fit(X, y)\n",
    "predictedCO2 = regr.predict([[3300, 1300]])\n",
    "print(predictedCO2)"
   ]
  },
  {
   "cell_type": "markdown",
   "metadata": {},
   "source": [
    "We have predicted that a car with 1.3 liter engine, and a weight of 3300 kg, will release approximately 115 grams of CO2 for every kilometer it drives.\n",
    "\n",
    "Which shows that the coefficient of 0.00755095 is correct:\n",
    "\n",
    "107.2087328 + (1000 * 0.00755095) = 114.75968"
   ]
  },
  {
   "cell_type": "markdown",
   "metadata": {},
   "source": [
    "### Machine Learning - Scale"
   ]
  },
  {
   "cell_type": "markdown",
   "metadata": {},
   "source": [
    "#### Scale Features\n",
    "When your data has different values, and even different measurement units, it can be difficult to compare them. What is kilograms compared to meters? Or altitude compared to time?\n",
    "\n",
    "The answer to this problem is scaling. We can scale data into new values that are easier to compare.\n",
    "\n",
    "Take a look at the table below, it is the same data set that we used in the multiple regression chapter, but this time the volume column contains values in liters instead of cm3 (1.0 instead of 1000)."
   ]
  },
  {
   "cell_type": "markdown",
   "metadata": {},
   "source": [
    "It can be difficult to compare the volume 1.0 with the weight 790, but if we scale them both into comparable values, we can easily see how much one value is compared to the other.\n",
    "\n",
    "There are different methods for scaling data, in this tutorial we will use a method called standardization.\n",
    "\n",
    "The standardization method uses this formula:\n",
    "\n",
    "z = (x - u) / s\n",
    "\n",
    "Where z is the new value, x is the original value, u is the mean and s is the standard deviation.\n",
    "\n",
    "If you take the weight column from the data set above, the first value is 790, and the scaled value will be:\n",
    "\n",
    "(790 - 1292.23) / 238.74 = -2.1\n",
    "If you take the volume column from the data set above, the first value is 1.0, and the scaled value will be:\n",
    "\n",
    "(1.0 - 1.61) / 0.38 = -1.59\n",
    "\n",
    "Now you can compare -2.1 with -1.59 instead of comparing 790 with 1.0.\n",
    "\n",
    "You do not have to do this manually, the Python sklearn module has a method called StandardScaler() which returns a Scaler object with methods for transforming data sets."
   ]
  },
  {
   "cell_type": "code",
   "execution_count": 14,
   "metadata": {},
   "outputs": [
    {
     "name": "stdout",
     "output_type": "stream",
     "text": [
      "[[-2.10389253 -1.59336644]\n",
      " [-0.55407235 -1.07190106]\n",
      " [-1.52166278 -1.59336644]\n",
      " [-1.78973979 -1.85409913]\n",
      " [-0.63784641 -0.28970299]\n",
      " [-1.52166278 -1.59336644]\n",
      " [-0.76769621 -0.55043568]\n",
      " [ 0.3046118  -0.28970299]\n",
      " [-0.7551301  -0.28970299]\n",
      " [-0.59595938 -0.0289703 ]\n",
      " [-1.30803892 -1.33263375]\n",
      " [-1.26615189 -0.81116837]\n",
      " [-0.7551301  -1.59336644]\n",
      " [-0.16871166 -0.0289703 ]\n",
      " [ 0.14125238 -0.0289703 ]\n",
      " [ 0.15800719 -0.0289703 ]\n",
      " [ 0.3046118  -0.0289703 ]\n",
      " [-0.05142797  1.53542584]\n",
      " [-0.72580918 -0.0289703 ]\n",
      " [ 0.14962979  1.01396046]\n",
      " [ 1.2219378  -0.0289703 ]\n",
      " [ 0.5685001   1.01396046]\n",
      " [ 0.3046118   1.27469315]\n",
      " [ 0.51404696 -0.0289703 ]\n",
      " [ 0.51404696  1.01396046]\n",
      " [ 0.72348212 -0.28970299]\n",
      " [ 0.8281997   1.01396046]\n",
      " [ 1.81254495  1.01396046]\n",
      " [ 0.96642691 -0.0289703 ]\n",
      " [ 1.72877089  1.01396046]\n",
      " [ 1.30990057  1.27469315]\n",
      " [ 1.90050772  1.01396046]\n",
      " [-0.23991961 -0.0289703 ]\n",
      " [ 0.40932938 -0.0289703 ]\n",
      " [ 0.47215993 -0.0289703 ]\n",
      " [ 0.4302729   2.31762392]]\n"
     ]
    }
   ],
   "source": [
    "#Scale all values in the Weight and Volume columns:\n",
    "import pandas \n",
    "from sklearn import linear_model\n",
    "from sklearn.preprocessing import  StandardScaler\n",
    "scale = StandardScaler()\n",
    "df = pandas.read_csv('cars2.csv')\n",
    "X = df[['Weight', 'Volume']]\n",
    "scaledX = scale.fit_transform(X)\n",
    "print(scaledX)"
   ]
  },
  {
   "cell_type": "markdown",
   "metadata": {},
   "source": [
    "Note that the first two values are -2.1 and -1.59, which corresponds to our calculations:"
   ]
  },
  {
   "cell_type": "markdown",
   "metadata": {},
   "source": [
    "#### Predict CO2 Values\n",
    "The task in the Multiple Regression chapter was to predict the CO2 emission from a car when you only knew its weight and volume.\n",
    "\n",
    "When the data set is scaled, you will have to use the scale when you predict values:"
   ]
  },
  {
   "cell_type": "code",
   "execution_count": 17,
   "metadata": {},
   "outputs": [
    {
     "name": "stdout",
     "output_type": "stream",
     "text": [
      "[107.2087328]\n"
     ]
    }
   ],
   "source": [
    "#Predict the CO2 emission from a 1.3 liter car that weighs 2300 kilograms:\n",
    "import pandas \n",
    "from sklearn import linear_model\n",
    "from sklearn.preprocessing import StandardScaler\n",
    "scalec = StandardScaler()\n",
    "df = pandas.read_csv('cars2.csv')\n",
    "X = df[['Weight', 'Volume']]\n",
    "y = df['CO2'] \n",
    "scaledX = scale.fit_transform(X)\n",
    "regr = linear_model.LinearRegression()\n",
    "regr.fit(scaledX, y)\n",
    "scaled = scale.transform([[2300, 1.3]])\n",
    "predictedCO2  = regr.predict([scaled[0]])\n",
    "print(predictedCO2)      "
   ]
  },
  {
   "cell_type": "markdown",
   "metadata": {},
   "source": [
    "### Machine Learning - Train/Test"
   ]
  },
  {
   "cell_type": "markdown",
   "metadata": {},
   "source": [
    "#### Evaluate Your Model\n",
    "In Machine Learning we create models to predict the outcome of certain events, like in the previous chapter where we predicted the CO2 emission of a car when we knew the weight and engine size.\n",
    "\n",
    "To measure if the model is good enough, we can use a method called Train/Test."
   ]
  },
  {
   "cell_type": "markdown",
   "metadata": {},
   "source": [
    "#### What is Train/Test\n",
    "Train/Test is a method to measure the accuracy of your model.\n",
    "\n",
    "It is called Train/Test because you split the the data set into two sets: a training set and a testing set."
   ]
  },
  {
   "cell_type": "markdown",
   "metadata": {},
   "source": [
    "80% for training, and 20% for testing."
   ]
  },
  {
   "cell_type": "markdown",
   "metadata": {},
   "source": [
    "You train the model using the training set.\n",
    "\n",
    "You test the model using the testing set."
   ]
  },
  {
   "cell_type": "markdown",
   "metadata": {},
   "source": [
    "Train the model means create the model.\n",
    "\n",
    "Test the model means test the accuracy of the model."
   ]
  },
  {
   "cell_type": "markdown",
   "metadata": {},
   "source": [
    "#### Start With a Data Set\n",
    "Start with a data set you want to test.\n",
    "\n",
    "Our data set illustrates 100 customers in a shop, and their shopping habits."
   ]
  },
  {
   "cell_type": "code",
   "execution_count": 2,
   "metadata": {},
   "outputs": [
    {
     "data": {
      "image/png": "[encoded data removed]",
      "text/plain": [
       "<Figure size 432x288 with 1 Axes>"
      ]
     },
     "metadata": {
      "needs_background": "light"
     },
     "output_type": "display_data"
    }
   ],
   "source": [
    "import numpy \n",
    "import matplotlib.pyplot as plt\n",
    "numpy.random.seed(2)\n",
    "x = numpy.random.normal(3, 1, 100)\n",
    "y = numpy.random.normal(150, 40, 100) / x\n",
    "plt.scatter(x, y)\n",
    "plt.show()"
   ]
  },
  {
   "cell_type": "markdown",
   "metadata": {},
   "source": [
    "The x axis represents the number of minutes before making a purchase.\n",
    "\n",
    "The y axis represents the amount of money spent on the purchase."
   ]
  },
  {
   "cell_type": "markdown",
   "metadata": {},
   "source": [
    "#### Split Into Train/Test\n",
    "The training set should be a random selection of 80% of the original data.\n",
    "\n",
    "The testing set should be the remaining 20%.\n",
    "\n",
    "train_x = x[:80]\n",
    "train_y = y[:80]\n",
    "\n",
    "test_x = x[80:]\n",
    "test_y = y[80:]"
   ]
  },
  {
   "cell_type": "code",
   "execution_count": 4,
   "metadata": {},
   "outputs": [],
   "source": [
    "train_x = x[:80]\n",
    "train_y = y[:80]\n",
    "\n",
    "test_x = x[80:]\n",
    "test_y = y[80:]"
   ]
  },
  {
   "cell_type": "markdown",
   "metadata": {},
   "source": [
    "#### Display the Training Set\n",
    "Display the same scatter plot with the training set:"
   ]
  },
  {
   "cell_type": "code",
   "execution_count": 5,
   "metadata": {},
   "outputs": [
    {
     "data": {
      "image/png": "[encoded data removed]",
      "text/plain": [
       "<Figure size 432x288 with 1 Axes>"
      ]
     },
     "metadata": {
      "needs_background": "light"
     },
     "output_type": "display_data"
    }
   ],
   "source": [
    "plt.scatter(train_x, train_y)\n",
    "plt.show()"
   ]
  },
  {
   "cell_type": "markdown",
   "metadata": {},
   "source": [
    "It looks like the original data set, so it seems to be a fair selection:"
   ]
  },
  {
   "cell_type": "markdown",
   "metadata": {},
   "source": [
    "#### Display the Testing Set\n",
    "To make sure the testing set is not completely different, we will take a look at the testing set as well."
   ]
  },
  {
   "cell_type": "code",
   "execution_count": 6,
   "metadata": {},
   "outputs": [
    {
     "data": {
      "image/png": "[encoded data removed]",
      "text/plain": [
       "<Figure size 432x288 with 1 Axes>"
      ]
     },
     "metadata": {
      "needs_background": "light"
     },
     "output_type": "display_data"
    }
   ],
   "source": [
    "plt.scatter(test_x, test_y)\n",
    "plt.show()"
   ]
  },
  {
   "cell_type": "markdown",
   "metadata": {},
   "source": [
    "The testing set also looks like the original data set:"
   ]
  },
  {
   "cell_type": "markdown",
   "metadata": {},
   "source": [
    "#### Fit the Data Set\n",
    "What does the data set look like? In my opinion I think the best fit would be a polynomial regression, so let us draw a line of polynomial regression.\n",
    "\n",
    "To draw a line through the data points, we use the plot() method of the matplotlib module:"
   ]
  },
  {
   "cell_type": "code",
   "execution_count": 8,
   "metadata": {},
   "outputs": [
    {
     "data": {
      "image/png": "[encoded data removed]",
      "text/plain": [
       "<Figure size 432x288 with 1 Axes>"
      ]
     },
     "metadata": {
      "needs_background": "light"
     },
     "output_type": "display_data"
    }
   ],
   "source": [
    "#Draw a polynomial regression line through the data points:\n",
    "import numpy\n",
    "import matplotlib.pyplot as plt\n",
    "numpy.random.seed(2)\n",
    "\n",
    "x = numpy.random.normal(3, 1, 100)\n",
    "y = numpy.random.normal(150, 40, 100) / x\n",
    "\n",
    "train_x = x[:80]\n",
    "train_y = y[:80]\n",
    "\n",
    "test_x = x[80:]\n",
    "test_y = y[80:]\n",
    "\n",
    "mymodel = numpy.poly1d(numpy.polyfit(train_x, train_y, 4))\n",
    "\n",
    "myline = numpy.linspace(0, 6, 100)\n",
    "\n",
    "plt.scatter(train_x, train_y)\n",
    "plt.plot(myline, mymodel(myline))\n",
    "plt.show()"
   ]
  },
  {
   "cell_type": "markdown",
   "metadata": {},
   "source": [
    "The result can back my suggestion of the data set fitting a polynomial regression, even though it would give us some weird results if we try to predict values outside of the data set. Example: the line indicates that a customer spending 6 minutes in the shop would make a purchase worth 200. That is probably a sign of overfitting.\n",
    "\n",
    "But what about the R-squared score? The R-squared score is a good indicator of how well my data set is fitting the model."
   ]
  },
  {
   "cell_type": "markdown",
   "metadata": {},
   "source": [
    "#### R2\n",
    "Remember R2, also known as R-squared?\n",
    "\n",
    "It measures the relationship between the x axis and the y axis, and the value ranges from 0 to 1, where 0 means no relationship, and 1 means totally related.\n",
    "\n",
    "The sklearn module has a method called r2_score() that will help us find this relationship.\n",
    "\n",
    "In this case we would like to measure the relationship between the minutes a customer stays in the shop and how much money they spend."
   ]
  },
  {
   "cell_type": "code",
   "execution_count": 10,
   "metadata": {},
   "outputs": [
    {
     "name": "stdout",
     "output_type": "stream",
     "text": [
      "0.7988645544629793\n"
     ]
    }
   ],
   "source": [
    "#How well does my training data fit in a polynomial regression?\n",
    "import numpy\n",
    "from sklearn.metrics import r2_score\n",
    "numpy.random.seed(2)\n",
    "\n",
    "x = numpy.random.normal(3, 1, 100)\n",
    "y = numpy.random.normal(150, 40, 100) / x\n",
    "\n",
    "train_x = x[:80]\n",
    "train_y = y[:80]\n",
    "\n",
    "test_x = x[80:]\n",
    "test_y = y[80:]\n",
    "\n",
    "mymodel = numpy.poly1d(numpy.polyfit(train_x, train_y, 4))\n",
    "\n",
    "r2 = r2_score(train_y, mymodel(train_x))\n",
    "\n",
    "print(r2)"
   ]
  },
  {
   "cell_type": "markdown",
   "metadata": {},
   "source": [
    "Note: The result 0.799 shows that there is a OK relationship."
   ]
  },
  {
   "cell_type": "markdown",
   "metadata": {},
   "source": [
    "#### Bring in the Testing Set\n",
    "Now we have made a model that is OK, at least when it comes to training data.\n",
    "\n",
    "Now we want to test the model with the testing data as well, to see if gives us the same result."
   ]
  },
  {
   "cell_type": "code",
   "execution_count": 12,
   "metadata": {},
   "outputs": [
    {
     "name": "stdout",
     "output_type": "stream",
     "text": [
      "-2.2027092945605404\n"
     ]
    }
   ],
   "source": [
    "#Let us find the R2 score when using testing data:\n",
    "import numpy\n",
    "from sklearn.metrics import r2_score\n",
    "numpy.random.seed(2)\n",
    "\n",
    "x = numpy.random.normal(3, 1, 100)\n",
    "y = numpy.random.normal(150, 40, 100) / x\n",
    "\n",
    "train_x = x[:80]\n",
    "train_y = x[:80]\n",
    "\n",
    "test_x = x[80:]\n",
    "test_y = y[80:]\n",
    "\n",
    "mymodel = numpy.poly1d(numpy.polyfit(train_x, train_y, 4))\n",
    "\n",
    "r2 = r2_score(test_y, mymodel(test_x))\n",
    "\n",
    "print(r2)"
   ]
  },
  {
   "cell_type": "markdown",
   "metadata": {},
   "source": [
    "Note: The result 0.809 shows that the model fits the testing set as well, and we are confident that we can use the model to predict future values."
   ]
  },
  {
   "cell_type": "markdown",
   "metadata": {},
   "source": [
    "#### Predict Values\n",
    "Now that we have established that our model is OK, we can start predicting new values."
   ]
  },
  {
   "cell_type": "code",
   "execution_count": 13,
   "metadata": {},
   "outputs": [
    {
     "name": "stdout",
     "output_type": "stream",
     "text": [
      "4.999999999999992\n"
     ]
    }
   ],
   "source": [
    "#How much money will a buying customer spend, if she or he stays in the shop for 5 minutes?\n",
    "print(mymodel(5))"
   ]
  },
  {
   "cell_type": "markdown",
   "metadata": {},
   "source": [
    "### Machine Learning - Decision Tree"
   ]
  },
  {
   "cell_type": "markdown",
   "metadata": {},
   "source": [
    "https://www.w3schools.com/python/img_ml_decision_tree.png"
   ]
  },
  {
   "cell_type": "markdown",
   "metadata": {},
   "source": [
    "#### Decision Tree\n",
    "In this chapter we will show you how to make a \"Decision Tree\". A Decision Tree is a Flow Chart, and can help you make decisions based on previous experience.\n",
    "\n",
    "In the example, a person will try to decide if he/she should go to a comedy show or not.\n",
    "\n",
    "Luckily our example person has registered every time there was a comedy show in town, and registered some information about the comedian, and also registered if he/she went or not."
   ]
  },
  {
   "cell_type": "code",
   "execution_count": null,
   "metadata": {},
   "outputs": [],
   "source": []
  }
 ],
 "metadata": {
  "kernelspec": {
   "display_name": "Python 3",
   "language": "python",
   "name": "python3"
  },
  "language_info": {
   "codemirror_mode": {
    "name": "ipython",
    "version": 3
   },
   "file_extension": ".py",
   "mimetype": "text/x-python",
   "name": "python",
   "nbconvert_exporter": "python",
   "pygments_lexer": "ipython3",
   "version": "3.8.5"
  }
 },
 "nbformat": 4,
 "nbformat_minor": 4
}
